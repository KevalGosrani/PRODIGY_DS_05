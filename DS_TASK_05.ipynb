{
 "cells": [
  {
   "cell_type": "code",
   "execution_count": 1,
   "id": "a846063f",
   "metadata": {},
   "outputs": [],
   "source": [
    "##Import the necessary libraries:\n",
    "import pandas as pd \n",
    "import matplotlib.pyplot as plt \n",
    "import seaborn as sns\n"
   ]
  },
  {
   "cell_type": "code",
   "execution_count": null,
   "id": "627278af",
   "metadata": {},
   "outputs": [],
   "source": [
    "##Load the dataset:\n",
    "data=pd.read_excel(r\"C: \\Users\\kevalgosrani\\Desktop\\Accidents.xisx\")"
   ]
  },
  {
   "cell_type": "code",
   "execution_count": null,
   "id": "9a7da36e",
   "metadata": {},
   "outputs": [],
   "source": [
    "##Explore the dataset:\n",
    "data. head ()\n",
    "data.info()"
   ]
  },
  {
   "cell_type": "code",
   "execution_count": null,
   "id": "a4596a7a",
   "metadata": {},
   "outputs": [],
   "source": [
    "# Convert the 'Date' column to datetime format\n",
    "['Date'] = pd.to_datetime (data[ 'Date'], format= '%Y-%m-%d\")\n",
    "# Create a new column 'Month' to extract the month from the 'Date' column\n",
    "data ['Month'] = data[ 'Date'].dt.month\n",
    "# Create a new column 'Weekday' to extract the weekday from the 'Date' column\n",
    "data['Weekday' ] = data ['Date' ].dt.weekday"
   ]
  },
  {
   "cell_type": "code",
   "execution_count": null,
   "id": "072281f2",
   "metadata": {},
   "outputs": [],
   "source": [
    "# Group the data by road conditions and calculate the number of accidents\n",
    "road_conditions = data groupby ('Road_Surface_Conditions')['Accident_Index'].count ().reset_index ()\n",
    "# Group the data by weather conditions and calculate the number of accidents\n",
    "weather_conditions = data.groupby ('Weather_Conditions')['Accident_Index'].count().reset_index()\n",
    "# Group the data by month and calculate the number of accidents\n",
    "monthly_accidents = data.groupby ('Month') ['Accident_Index'].count ().reset_index ()\n",
    "# Group the data by weekday and calculate the number of accidents\n",
    "weekday_accidents = data-groupby ('Weekday') ['Accident_Index'].count ().reset_index ()"
   ]
  },
  {
   "cell_type": "code",
   "execution_count": null,
   "id": "b2629069",
   "metadata": {},
   "outputs": [],
   "source": [
    "# Plot the number of accidents by road conditions\n",
    "pit.figure(figsize=(10, 6))\n",
    "sns.barplot (x= 'Road_Surface_Conditions', y='Accident_Index', data=road_conditions) \n",
    "pit.title('Number of Accidents by Road Conditions') \n",
    "pit.xlabel('Road Conditions') \n",
    "pit.ylabel('Number of Accidents') \n",
    "plt.show()"
   ]
  },
  {
   "cell_type": "code",
   "execution_count": null,
   "id": "6ad4d614",
   "metadata": {},
   "outputs": [],
   "source": [
    "# Plot the number of accidents by weather conditions\n",
    "pit. figure(figsize=(10, 6)) \n",
    "sns.barplot (x='Weather_Conditions', y='Accident_Index', data=weather_conditions) \n",
    "pit. title( 'Number of Accidents by Weather Conditions') \n",
    "pit.xlabel ('Weather Conditions') \n",
    "pit.ylabel('Number of Accidents') \n",
    "plt.show ()"
   ]
  },
  {
   "cell_type": "code",
   "execution_count": null,
   "id": "a961ca75",
   "metadata": {},
   "outputs": [],
   "source": [
    "# Plot the number of accidents by month \n",
    "pit. figure(figsize=(10, 6))\n",
    "sns.lineplot (×='Month', y='Accident_Index', data=monthly_accidents) \n",
    "plt.title('Number of Accidents by Month') \n",
    "pit.xlabel('Month')\n",
    "plt.ylabel('Number of Accidents')\n",
    "plt.show ()"
   ]
  },
  {
   "cell_type": "code",
   "execution_count": null,
   "id": "f2666130",
   "metadata": {},
   "outputs": [],
   "source": [
    "# Plot the number of accidents by weekday \n",
    "plt.figure(figsize=(10, 6))\n",
    "sns.barplot (x='Weekday', y='Accident_Index', data=weekday_accidents) \n",
    "pit.title('Number of Accidents by Weekday') \n",
    "plt.xlabel('Weekday')\n",
    "pit.ylabel('Number of Accidents')\n",
    "plt.show()"
   ]
  }
 ],
 "metadata": {
  "kernelspec": {
   "display_name": "Python 3 (ipykernel)",
   "language": "python",
   "name": "python3"
  },
  "language_info": {
   "codemirror_mode": {
    "name": "ipython",
    "version": 3
   },
   "file_extension": ".py",
   "mimetype": "text/x-python",
   "name": "python",
   "nbconvert_exporter": "python",
   "pygments_lexer": "ipython3",
   "version": "3.11.5"
  }
 },
 "nbformat": 4,
 "nbformat_minor": 5
}
